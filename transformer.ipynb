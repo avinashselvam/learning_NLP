{
 "cells": [
  {
   "cell_type": "code",
   "execution_count": 95,
   "metadata": {},
   "outputs": [],
   "source": [
    "import numpy as np\n",
    "from pandas import read_csv\n",
    "\n",
    "import torch\n",
    "from torch import nn\n",
    "import torch.nn.functional as F\n",
    "from torch.utils.data import Dataset, DataLoader\n",
    "\n",
    "import re\n",
    "import nltk.corpus\n",
    "from nltk.corpus import stopwords\n",
    "from nltk.stem import WordNetLemmatizer\n",
    "import torchtext\n",
    "from torchtext.data.utils import get_tokenizer\n",
    "from torchtext.vocab import build_vocab_from_iterator\n",
    "from torch.nn.utils.rnn import pad_sequence"
   ]
  },
  {
   "cell_type": "code",
   "execution_count": 25,
   "metadata": {},
   "outputs": [],
   "source": [
    "def clean(text):\n",
    "\n",
    "    text = text.lower()\n",
    "\n",
    "    # remove urls and html tags\n",
    "    # needs to happen before removing punctuations\n",
    "    text = re.sub(r'^https?:\\/\\/.*[\\r\\n]*', '', text, flags=re.MULTILINE)\n",
    "    text = re.sub('<.*?>+', ' ', text)\n",
    "\n",
    "    # remove punctuations and unicodes\n",
    "    text = re.sub(r\"(@\\[A-Za-z0-9]+)|([^0-9A-Za-z \\t])|(\\w+:\\/\\/\\S+)|^rt|http.+?\", \"\", text)\n",
    "\n",
    "    # removes stop words and extra spaces\n",
    "    # lemmatises every word\n",
    "    stop = stopwords.words('english')\n",
    "    lemmatizer = WordNetLemmatizer()\n",
    "    text = \" \".join([lemmatizer.lemmatize(word) for word in text.split() if word not in stop])\n",
    "\n",
    "    return text\n",
    "\n",
    "df = read_csv('imdb_dataset.csv')\n",
    "df['review'] = df['review'].apply(lambda text: clean(text))\n",
    "mapping = { 'positive' : 1, 'negative': 0 }\n",
    "df = df.replace({ 'sentiment': mapping })"
   ]
  },
  {
   "cell_type": "code",
   "execution_count": 311,
   "metadata": {},
   "outputs": [],
   "source": [
    "tokenizer = get_tokenizer(\"basic_english\")\n",
    "tokens = [tokenizer(doc) for doc in df['review']]\n",
    "voc = build_vocab_from_iterator(tokens, specials=[\"<unk>\"], max_tokens=1000)\n",
    "voc.set_default_index(voc['<unk>'])"
   ]
  },
  {
   "cell_type": "code",
   "execution_count": 312,
   "metadata": {},
   "outputs": [],
   "source": [
    "tokenised_reviews = [voc(token) for token in tokens]"
   ]
  },
  {
   "cell_type": "code",
   "execution_count": 348,
   "metadata": {},
   "outputs": [],
   "source": [
    "# data\n",
    "\n",
    "BATCH_SIZE = 4\n",
    "\n",
    "def collate(batch):\n",
    "\n",
    "    reviews = [torch.tensor(review) for (review, _) in batch]\n",
    "    reviews = pad_sequence(reviews, batch_first=True)\n",
    "    labels = torch.tensor([label for (_, label) in batch])\n",
    "\n",
    "    return reviews, labels\n",
    "\n",
    "class ImdbDataset(Dataset):\n",
    "\n",
    "    def __init__(self, reviews, labels):\n",
    "        self.reviews = reviews\n",
    "        self.labels = labels\n",
    "\n",
    "    def __len__(self):\n",
    "        return len(self.reviews)\n",
    "    \n",
    "    def __getitem__(self, idx):\n",
    "        return (self.reviews[idx], self.labels[idx])\n",
    "\n",
    "train_dataloader = DataLoader(ImdbDataset(tokenised_reviews[:40000], df['sentiment'][:40000]), shuffle=True, batch_size=BATCH_SIZE, drop_last=True, collate_fn=collate)\n",
    "# test_dataloader = DataLoader(ImdbDataset(df[45000:]), shuffle=True, batch_size=BATCH_SIZE, drop_last=True)"
   ]
  },
  {
   "attachments": {},
   "cell_type": "markdown",
   "metadata": {},
   "source": [
    "t - sequence length\n",
    "k - word embedding dimension\n",
    "b - batch size\n",
    "h - number of heads in multi headed attention "
   ]
  },
  {
   "cell_type": "code",
   "execution_count": 349,
   "metadata": {},
   "outputs": [],
   "source": [
    "device = 'cuda'"
   ]
  },
  {
   "cell_type": "code",
   "execution_count": 350,
   "metadata": {},
   "outputs": [],
   "source": [
    "class MutliHeadedAttention(nn.Module):\n",
    "\n",
    "    def __init__(self, k, h):\n",
    "        super().__init__()\n",
    "        self.k = k\n",
    "        self.h = h\n",
    "\n",
    "        self.queries_converter = nn.Linear(k, h*k)\n",
    "        self.keys_converter =  nn.Linear(k, h*k)\n",
    "        self.values_converter =  nn.Linear(k, h*k)\n",
    "\n",
    "        self.combine_heads = nn.Linear(h*k, k)\n",
    "    \n",
    "    def forward(self, x):\n",
    "        \n",
    "        # x.shape = [b, t, k]\n",
    "        b, t, _ = x.shape\n",
    "        h, k = self.h, self.k\n",
    "\n",
    "        # q, k, v shape = [b, t, h*k]\n",
    "        queries = self.queries_converter(x)\n",
    "        keys = self.keys_converter(x)\n",
    "        values = self.values_converter(x)\n",
    "\n",
    "        # [b, t, h*k] - [b, t, h, k] - [b, h, t, k] - [b*h, t, k]\n",
    "        # tranpose is necessary because only adjacent dimensions can be clubbed\n",
    "        # the final shape is needed to apply bmm without losing the h dimension\n",
    "        queries = queries.view(b, t, h, k).transpose(1, 2).contiguous().view(b*h, t, k)\n",
    "        keys = keys.view(b, t, h, k).transpose(1, 2).contiguous().view(b*h, t, k)\n",
    "        values = values.view(b, t, h, k).transpose(1, 2).contiguous().view(b*h, t, k)\n",
    "\n",
    "        # [b*h, t, k] x [b*h, k, t]\n",
    "        weights = torch.bmm(queries, keys.transpose(1, 2))\n",
    "\n",
    "        # [b*h, t, t]\n",
    "        # softmax applied across the second t dimension so that each row is normalised\n",
    "        weights = F.softmax(weights, dim=2)\n",
    "\n",
    "        # [b*h, t, k]\n",
    "        multi_attention = torch.bmm(weights, values)\n",
    "\n",
    "        # [b*h, t, k] - [b, h, t, k] - [b, t, h, k] - [b, t, h*k]\n",
    "        multi_attention = multi_attention.view(b, h, t, k).transpose(1, 2).contiguous().view(b, t, h*k)\n",
    "\n",
    "        # attention.shape = [b, t, k]\n",
    "        attention = self.combine_heads(multi_attention)\n",
    "\n",
    "        return attention\n",
    "\n",
    "def encode_positions(t, k):\n",
    "\n",
    "    # accepts sequence length and token length\n",
    "    position_encoding = torch.zeros((t, k))\n",
    "    for j in range(t):\n",
    "        for i in range(k//2):\n",
    "            val = torch.tensor(j/10000**((2*i/k)))\n",
    "            position_encoding[j,2*i] = val.sin()\n",
    "            position_encoding[j,2*i+1] = val.cos()\n",
    "    \n",
    "    return position_encoding.to(device)\n",
    "\n",
    "class TransformerBlock(nn.Module):\n",
    "\n",
    "    def __init__(self, k, h):\n",
    "        super().__init__()\n",
    "        self.layernorm1 = nn.LayerNorm(k)\n",
    "        self.layernorm2 = nn.LayerNorm(k)\n",
    "        self.multiattention = MutliHeadedAttention(k, h)\n",
    "        self.mlp = nn.Sequential(\n",
    "            nn.Linear(k, 4*k),\n",
    "            nn.ReLU(),\n",
    "            nn.Linear(4*k, k)\n",
    "        )\n",
    "    \n",
    "    def forward(self, x):\n",
    "\n",
    "        y = self.multiattention(x)\n",
    "        y = self.layernorm1(y)\n",
    "        x = x + y\n",
    "\n",
    "        y = self.mlp(x)\n",
    "        y = self.layernorm2(y)\n",
    "        x = x + y\n",
    "\n",
    "        return x\n",
    "\n",
    "class Transformer(nn.Module):\n",
    "\n",
    "    # binary classification\n",
    "\n",
    "    def __init__(self, t = 100, k = 64, h = 8):\n",
    "        super().__init__()\n",
    "        vocab_size = 1000\n",
    "        self.embedding = nn.Embedding(vocab_size, k)\n",
    "        self.position_encodings = encode_positions(2000, k)\n",
    "        self.transformer_blocks = nn.Sequential(*[TransformerBlock(k, h) for _ in range(2)])\n",
    "        self.linear = nn.Linear(k, 1)\n",
    "\n",
    "    def forward(self, x):\n",
    "\n",
    "        x = self.embedding(x)\n",
    "        x = x + self.position_encodings[:x.shape[1],:]\n",
    "        x = self.transformer_blocks(x)\n",
    "        x = x.mean(dim=1)\n",
    "        x = self.linear(x)\n",
    "        # x = torch.sigmoid(x)\n",
    "\n",
    "        return x"
   ]
  },
  {
   "cell_type": "code",
   "execution_count": 351,
   "metadata": {},
   "outputs": [],
   "source": [
    "model = Transformer().to(device)\n",
    "model.train()\n",
    "optimiser = torch.optim.Adam(model.parameters(), lr=0.0002)\n",
    "criterion = nn.BCEWithLogitsLoss()"
   ]
  },
  {
   "cell_type": "code",
   "execution_count": 352,
   "metadata": {},
   "outputs": [
    {
     "name": "stdout",
     "output_type": "stream",
     "text": [
      "0.5075623951088427\n",
      "0.34576123359544225\n",
      "0.4015528459669372\n",
      "0.4219210084394183\n",
      "0.37422395893747556\n",
      "0.3506436097343595\n",
      "0.23773466897413523\n",
      "0.25047358625145966\n",
      "0.2678773581228292\n",
      "0.18478889611683036\n"
     ]
    }
   ],
   "source": [
    "EPOCHS = 10\n",
    "\n",
    "losses = [1]\n",
    "\n",
    "for epoch in range(EPOCHS):\n",
    "    for i, data in enumerate(train_dataloader):\n",
    "\n",
    "        optimiser.zero_grad()\n",
    "\n",
    "        review, label = data\n",
    "        review, label = review.to(device), label.to(device)\n",
    "        predicted_label = model(review).squeeze(1)\n",
    "\n",
    "        loss = criterion(predicted_label.float(), label.float())\n",
    "        # print(predicted_label.float(), label.float())\n",
    "        loss.backward()\n",
    "        losses.append(0.9*losses[-1] + 0.1*loss.cpu().detach().numpy())\n",
    "\n",
    "        # print(label.float(), predicted_label.float(), loss)\n",
    "\n",
    "        # nn.utils.clip_grad_norm_(model.parameters(), 0.1)\n",
    "        optimiser.step()\n",
    "\n",
    "        # if 1 or i%10 == 0: print(losses[-1])\n",
    "    print(losses[-1])"
   ]
  },
  {
   "cell_type": "code",
   "execution_count": 353,
   "metadata": {},
   "outputs": [
    {
     "data": {
      "image/png": "[encoded data removed]",
      "text/plain": [
       "<Figure size 640x480 with 1 Axes>"
      ]
     },
     "metadata": {},
     "output_type": "display_data"
    }
   ],
   "source": [
    "plt.plot(list(range(len(losses))), losses)\n",
    "plt.show()"
   ]
  },
  {
   "cell_type": "code",
   "execution_count": 357,
   "metadata": {},
   "outputs": [],
   "source": [
    "# validation\n",
    "\n",
    "accuracy = 0\n",
    "val_dataloader = DataLoader(ImdbDataset(tokenised_reviews[40000:45000], df['sentiment'].to_numpy()[40000:45000]), shuffle=True, batch_size=2, drop_last=True, collate_fn=collate)\n",
    "\n",
    "for i, data in enumerate(val_dataloader):\n",
    "\n",
    "    review, label = data\n",
    "    review, label = review.to(device), label.to(device)\n",
    "    predicted_label = torch.sigmoid(model(review)).squeeze(1) > 0.5\n",
    "\n",
    "    # print(predicted_label, label)\n",
    "\n",
    "    accuracy += np.sum(predicted_label.cpu().detach().numpy() == label.cpu().detach().numpy())\n",
    "    # tp =\n",
    "    # fp =\n",
    "\n",
    "accuracy /= 5000\n"
   ]
  },
  {
   "cell_type": "code",
   "execution_count": 358,
   "metadata": {},
   "outputs": [
    {
     "data": {
      "text/plain": [
       "0.8352"
      ]
     },
     "execution_count": 358,
     "metadata": {},
     "output_type": "execute_result"
    }
   ],
   "source": [
    "accuracy"
   ]
  },
  {
   "cell_type": "code",
   "execution_count": 337,
   "metadata": {},
   "outputs": [
    {
     "data": {
      "text/plain": [
       "2500"
      ]
     },
     "execution_count": 337,
     "metadata": {},
     "output_type": "execute_result"
    }
   ],
   "source": []
  },
  {
   "cell_type": "code",
   "execution_count": null,
   "metadata": {},
   "outputs": [],
   "source": [
    "# train acc 0.923825\n",
    "# train acc 0.8352\n"
   ]
  },
  {
   "cell_type": "code",
   "execution_count": 361,
   "metadata": {},
   "outputs": [
    {
     "data": {
      "text/plain": [
       "'one reviewer mentioned watching 1 oz episode youll hooked right exactly happened first thing struck oz brutality unflinching scene violence set right word go trust show faint hearted timid show pull punch regard drug sex violence hardcore classic use word called oz nickname given oswald maximum security state penitentary focus mainly emerald city experimental section prison cell glass front face inwards privacy high agenda em city home manyaryans muslim gangsta latino christian italian irish moreso scuffle death stare dodgy dealing shady agreement never far away would say main appeal show due fact go show wouldnt dare forget pretty picture painted mainstream audience forget charm forget romanceoz doesnt mess around first episode ever saw struck nasty surreal couldnt say ready watched developed taste oz got accustomed high level graphic violence violence injustice crooked guard wholl sold nickel inmate wholl kill order get away well mannered middle class inmate turned prison bitch due lack street skill prison experience watching oz may become comfortable uncomfortable viewingthats get touch darker side'"
      ]
     },
     "execution_count": 361,
     "metadata": {},
     "output_type": "execute_result"
    }
   ],
   "source": [
    "doc_frequency = defaultdict(lambda: 0)\n",
    "for doc in df['review']:\n",
    "    words, counts = np.unique(doc.split(), return_counts=True)\n",
    "    for word in words: doc_frequency[word] += 1\n"
   ]
  },
  {
   "cell_type": "code",
   "execution_count": 375,
   "metadata": {},
   "outputs": [],
   "source": [
    "document_frequency = np.zeros((1000))\n",
    "num_docs = len(tokenised_reviews)\n",
    "word_frequency = np.zeros((num_docs, 1000))\n",
    "for i, review in enumerate(tokenised_reviews):\n",
    "    unique_tokens, counts = np.unique(review, return_counts=True)\n",
    "    if len(unique_tokens) == 0: continue\n",
    "    word_frequency[i][unique_tokens] += counts\n",
    "    document_frequency[unique_tokens] += 1"
   ]
  },
  {
   "cell_type": "code",
   "execution_count": 376,
   "metadata": {},
   "outputs": [
    {
     "data": {
      "text/plain": [
       "(50000,)"
      ]
     },
     "execution_count": 376,
     "metadata": {},
     "output_type": "execute_result"
    }
   ],
   "source": [
    "np.dot(word_frequency, np.log(num_docs/(document_frequency+1))).shape"
   ]
  },
  {
   "cell_type": "code",
   "execution_count": 377,
   "metadata": {},
   "outputs": [
    {
     "data": {
      "text/plain": [
       "(50000, 1000)"
      ]
     },
     "execution_count": 377,
     "metadata": {},
     "output_type": "execute_result"
    }
   ],
   "source": [
    "word_frequency.shape"
   ]
  },
  {
   "cell_type": "code",
   "execution_count": 379,
   "metadata": {},
   "outputs": [
    {
     "data": {
      "text/plain": [
       "(1000,)"
      ]
     },
     "execution_count": 379,
     "metadata": {},
     "output_type": "execute_result"
    }
   ],
   "source": [
    "np.log(num_docs/(document_frequency+1)).shape"
   ]
  },
  {
   "cell_type": "code",
   "execution_count": 382,
   "metadata": {},
   "outputs": [],
   "source": [
    "tfidf = (word_frequency*np.log(num_docs/(document_frequency+1)))"
   ]
  },
  {
   "cell_type": "code",
   "execution_count": 384,
   "metadata": {},
   "outputs": [
    {
     "data": {
      "text/plain": [
       "(1000,)"
      ]
     },
     "execution_count": 384,
     "metadata": {},
     "output_type": "execute_result"
    }
   ],
   "source": []
  },
  {
   "cell_type": "code",
   "execution_count": null,
   "metadata": {},
   "outputs": [],
   "source": []
  }
 ],
 "metadata": {
  "kernelspec": {
   "display_name": "torch",
   "language": "python",
   "name": "python3"
  },
  "language_info": {
   "codemirror_mode": {
    "name": "ipython",
    "version": 3
   },
   "file_extension": ".py",
   "mimetype": "text/x-python",
   "name": "python",
   "nbconvert_exporter": "python",
   "pygments_lexer": "ipython3",
   "version": "3.10.9"
  },
  "orig_nbformat": 4,
  "vscode": {
   "interpreter": {
    "hash": "625f3df0047ff03eab0d5b9a3dcf287656d73fc457a8fdfff4a32d4d8faa436c"
   }
  }
 },
 "nbformat": 4,
 "nbformat_minor": 2
}
